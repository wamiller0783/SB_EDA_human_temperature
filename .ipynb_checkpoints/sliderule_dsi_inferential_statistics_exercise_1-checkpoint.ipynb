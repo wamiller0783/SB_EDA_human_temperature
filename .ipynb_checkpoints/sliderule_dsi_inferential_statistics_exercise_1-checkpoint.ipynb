{
 "cells": [
  {
   "cell_type": "markdown",
   "metadata": {},
   "source": [
    "# What is the True Normal Human Body Temperature? \n",
    "\n",
    "#### Background\n",
    "\n",
    "The mean normal body temperature was held to be 37$^{\\circ}$C or 98.6$^{\\circ}$F for more than 120 years since it was first conceptualized and reported by Carl Wunderlich in a famous 1868 book. But, is this value statistically correct?"
   ]
  },
  {
   "cell_type": "markdown",
   "metadata": {},
   "source": [
    "<h3>Exercises</h3>\n",
    "\n",
    "<p>In this exercise, you will analyze a dataset of human body temperatures and employ the concepts of hypothesis testing, confidence intervals, and statistical significance.</p>\n",
    "\n",
    "<p>Answer the following questions <b>in this notebook below and submit to your Github account</b>.</p> \n",
    "\n",
    "<ol>\n",
    "<li>  Is the distribution of body temperatures normal? \n",
    "    <ul>\n",
    "    <li> Although this is not a requirement for the Central Limit Theorem to hold (read the introduction on Wikipedia's page about the CLT carefully: https://en.wikipedia.org/wiki/Central_limit_theorem), it gives us some peace of mind that the population may also be normally distributed if we assume that this sample is representative of the population.\n",
    "    <li> Think about the way you're going to check for the normality of the distribution. Graphical methods are usually used first, but there are also other ways: https://en.wikipedia.org/wiki/Normality_test\n",
    "    </ul>\n",
    "<li>  Is the sample size large? Are the observations independent?\n",
    "    <ul>\n",
    "    <li> Remember that this is a condition for the Central Limit Theorem, and hence the statistical tests we are using, to apply.\n",
    "    </ul>\n",
    "<li>  Is the true population mean really 98.6 degrees F?\n",
    "    <ul>\n",
    "    <li> First, try a bootstrap hypothesis test.\n",
    "    <li> Now, let's try frequentist statistical testing. Would you use a one-sample or two-sample test? Why?\n",
    "    <li> In this situation, is it appropriate to use the $t$ or $z$ statistic? \n",
    "    <li> Now try using the other test. How is the result be different? Why?\n",
    "    </ul>\n",
    "<li>  Draw a small sample of size 10 from the data and repeat both frequentist tests. \n",
    "    <ul>\n",
    "    <li> Which one is the correct one to use? \n",
    "    <li> What do you notice? What does this tell you about the difference in application of the $t$ and $z$ statistic?\n",
    "    </ul>\n",
    "<li>  At what temperature should we consider someone's temperature to be \"abnormal\"?\n",
    "    <ul>\n",
    "    <li> As in the previous example, try calculating everything using the boostrap approach, as well as the frequentist approach.\n",
    "    <li> Start by computing the margin of error and confidence interval. When calculating the confidence interval, keep in mind that you should use the appropriate formula for one draw, and not N draws.\n",
    "    </ul>\n",
    "<li>  Is there a significant difference between males and females in normal temperature?\n",
    "    <ul>\n",
    "    <li> What testing approach did you use and why?\n",
    "    <li> Write a story with your conclusion in the context of the original problem.\n",
    "    </ul>\n",
    "</ol>\n",
    "\n",
    "You can include written notes in notebook cells using Markdown: \n",
    "   - In the control panel at the top, choose Cell > Cell Type > Markdown\n",
    "   - Markdown syntax: http://nestacms.com/docs/creating-content/markdown-cheat-sheet\n",
    "\n",
    "#### Resources\n",
    "\n",
    "+ Information and data sources: http://www.amstat.org/publications/jse/datasets/normtemp.txt, http://www.amstat.org/publications/jse/jse_data_archive.htm\n",
    "+ Markdown syntax: http://nestacms.com/docs/creating-content/markdown-cheat-sheet\n",
    "\n",
    "****"
   ]
  },
  {
   "cell_type": "code",
   "execution_count": 1,
   "metadata": {},
   "outputs": [],
   "source": [
    "# import libraries\n",
    "import numpy as np\n",
    "import pandas as pd\n",
    "import matplotlib.pyplot as plt\n",
    "import seaborn as sns\n",
    "import warnings\n",
    "\n",
    "from scipy import stats\n",
    "\n",
    "warnings.filterwarnings(\"ignore\")"
   ]
  },
  {
   "cell_type": "code",
   "execution_count": 2,
   "metadata": {},
   "outputs": [],
   "source": [
    "df = pd.read_csv('data/human_body_temperature.csv')"
   ]
  },
  {
   "cell_type": "markdown",
   "metadata": {},
   "source": [
    "### 0) Preparation: obtain general information about data\n",
    "Before starting, I want to get a general idea of what the data looks like: what columns it contains, how many entries it has, whether there is any missing data, etc."
   ]
  },
  {
   "cell_type": "code",
   "execution_count": 98,
   "metadata": {},
   "outputs": [
    {
     "data": {
      "text/html": [
       "<div>\n",
       "<style scoped>\n",
       "    .dataframe tbody tr th:only-of-type {\n",
       "        vertical-align: middle;\n",
       "    }\n",
       "\n",
       "    .dataframe tbody tr th {\n",
       "        vertical-align: top;\n",
       "    }\n",
       "\n",
       "    .dataframe thead th {\n",
       "        text-align: right;\n",
       "    }\n",
       "</style>\n",
       "<table border=\"1\" class=\"dataframe\">\n",
       "  <thead>\n",
       "    <tr style=\"text-align: right;\">\n",
       "      <th></th>\n",
       "      <th>temperature</th>\n",
       "      <th>gender</th>\n",
       "      <th>heart_rate</th>\n",
       "    </tr>\n",
       "  </thead>\n",
       "  <tbody>\n",
       "    <tr>\n",
       "      <th>0</th>\n",
       "      <td>99.3</td>\n",
       "      <td>F</td>\n",
       "      <td>68.0</td>\n",
       "    </tr>\n",
       "    <tr>\n",
       "      <th>1</th>\n",
       "      <td>98.4</td>\n",
       "      <td>F</td>\n",
       "      <td>81.0</td>\n",
       "    </tr>\n",
       "    <tr>\n",
       "      <th>2</th>\n",
       "      <td>97.8</td>\n",
       "      <td>M</td>\n",
       "      <td>73.0</td>\n",
       "    </tr>\n",
       "    <tr>\n",
       "      <th>3</th>\n",
       "      <td>99.2</td>\n",
       "      <td>F</td>\n",
       "      <td>66.0</td>\n",
       "    </tr>\n",
       "    <tr>\n",
       "      <th>4</th>\n",
       "      <td>98.0</td>\n",
       "      <td>F</td>\n",
       "      <td>73.0</td>\n",
       "    </tr>\n",
       "  </tbody>\n",
       "</table>\n",
       "</div>"
      ],
      "text/plain": [
       "   temperature gender  heart_rate\n",
       "0         99.3      F        68.0\n",
       "1         98.4      F        81.0\n",
       "2         97.8      M        73.0\n",
       "3         99.2      F        66.0\n",
       "4         98.0      F        73.0"
      ]
     },
     "execution_count": 98,
     "metadata": {},
     "output_type": "execute_result"
    }
   ],
   "source": [
    "df.head()"
   ]
  },
  {
   "cell_type": "code",
   "execution_count": 4,
   "metadata": {},
   "outputs": [
    {
     "name": "stdout",
     "output_type": "stream",
     "text": [
      "<class 'pandas.core.frame.DataFrame'>\n",
      "RangeIndex: 130 entries, 0 to 129\n",
      "Data columns (total 3 columns):\n",
      "temperature    130 non-null float64\n",
      "gender         130 non-null object\n",
      "heart_rate     130 non-null float64\n",
      "dtypes: float64(2), object(1)\n",
      "memory usage: 3.1+ KB\n"
     ]
    }
   ],
   "source": [
    "df.info()"
   ]
  },
  {
   "cell_type": "markdown",
   "metadata": {},
   "source": [
    "### 1) Is the distribution of body temperatures normal?\n",
    "Null hypothesis: the distribution of body temperatures is normal.\n",
    "\n",
    "From a glance at a histogram of the body temperature data, as well as a plot of its ecdf, it appears as if we should accept the null hypothesis and consider the distribution of body temperatures normal."
   ]
  },
  {
   "cell_type": "code",
   "execution_count": 5,
   "metadata": {},
   "outputs": [],
   "source": [
    "def ecdf(data):\n",
    "    \"\"\"Compute ECDF for a one-dimensional array.\"\"\"\n",
    "    # Number of data points: n\n",
    "    n = len(data)\n",
    "\n",
    "    # x-data for the ECDF: x\n",
    "    x = np.sort(data)\n",
    "\n",
    "    # y-data for the ECDF: y\n",
    "    y = np.arange(1, n+1) / n\n",
    "\n",
    "    return x, y"
   ]
  },
  {
   "cell_type": "code",
   "execution_count": 25,
   "metadata": {},
   "outputs": [
    {
     "data": {
      "image/png": "[encoded data removed]",
      "text/plain": [
       "<Figure size 1152x432 with 2 Axes>"
      ]
     },
     "metadata": {},
     "output_type": "display_data"
    }
   ],
   "source": [
    "# Store temperature array in variable\n",
    "sample_temps = df['temperature']\n",
    "\n",
    "# Set number of bins equal to the square root of number of sample.\n",
    "n_bins = int(np.sqrt(len(sample_temps)))\n",
    "# Set up axes and figure size.\n",
    "fig, (ax1, ax2) = plt.subplots(1, 2, figsize=(16, 6))\n",
    "# Plot pdf\n",
    "sns.distplot(sample_temps, bins=n_bins, ax=ax1)\n",
    "# compute coordinates for ecdf\n",
    "x,y = ecdf(sample_temps)\n",
    "# plot ecdf\n",
    "ax2.plot(x, y, marker='.', linestyle='none')\n",
    "# set labels\n",
    "ax1.set_xlabel('human body temperature')\n",
    "ax1.set_ylabel('pdf')\n",
    "ax2.set_xlabel('human body temperature')\n",
    "ax2.set_ylabel('ecdf')\n",
    "# show plots\n",
    "plt.show()"
   ]
  },
  {
   "cell_type": "code",
   "execution_count": 165,
   "metadata": {},
   "outputs": [
    {
     "name": "stdout",
     "output_type": "stream",
     "text": [
      "The null hypothesis should not be rejected.\n",
      "Probability is 0.26 of making a type 1 error, which is above a significance level of 0.05.\n"
     ]
    }
   ],
   "source": [
    "def eval_hnull(p, alpha):\n",
    "    if p >= alpha:\n",
    "        print('The null hypothesis should not be rejected.') \n",
    "        print('Probability is %0.2f of making a type 1 error, which is above a significance level of %0.2f.' % (p, alpha))\n",
    "\n",
    "    else:\n",
    "        print('The null hypothesis can be rejected.') \n",
    "        print('Probability is %0.2f of making a type 1 error, which is below a significance level of %0.2f.' % (p, alpha))\n",
    "    return\n",
    "# run a normality test on the sample data\n",
    "k2, p = stats.normaltest(sample_temps)\n",
    "# set a significance threshold alpha\n",
    "alpha = 5e-2\n",
    "\n",
    "eval_hnull(p, alpha)"
   ]
  },
  {
   "cell_type": "markdown",
   "metadata": {},
   "source": [
    "### 2) Is the sample size large? Are the observations independent?\n",
    "The sample size is large (n > 30). Observations are independent, as no human's body temperature can affect that of another. The z-test and central limit theorem can therefore be applied."
   ]
  },
  {
   "cell_type": "code",
   "execution_count": 27,
   "metadata": {},
   "outputs": [
    {
     "name": "stdout",
     "output_type": "stream",
     "text": [
      "Sample size is equal to 130 (n > 30), sample size is large.\n"
     ]
    }
   ],
   "source": [
    "# Test sample size using if/then statements.\n",
    "if len(sample_temps) > 30:\n",
    "    print(\"Sample size is equal to %.0f (n > 30), sample size is large.\" % len(df['temperature'], ))\n",
    "else:\n",
    "    print(\"Sample size is equal to %.0f (n <= 30), sample size is small.\" % len(df['temperature'], ))"
   ]
  },
  {
   "cell_type": "markdown",
   "metadata": {},
   "source": [
    "### 3) Is the true population mean really 98.6 degrees F?\n",
    "Null hypothesis: The true population mean is 98.6 degrees farenheit. \n",
    "\n",
    "According to the bootstrap method, 98.6 is outside of a 95% confidence interval from the mean of 10,000 replications of the sample data, and the null hypothesis should be rejected."
   ]
  },
  {
   "cell_type": "code",
   "execution_count": 100,
   "metadata": {},
   "outputs": [
    {
     "name": "stdout",
     "output_type": "stream",
     "text": [
      "98.6 is outside of a 99% confidence interval (98.09 to 98.41) from the mean of the sample values (98.25).\n",
      "The null hypothesis can be rejected with less than a 1% chance of a type 1 error.\n"
     ]
    }
   ],
   "source": [
    "def draw_bs_reps(data, func, size=1):\n",
    "    \"\"\"Draw bootstrap replicates.\"\"\"\n",
    "\n",
    "    # Initialize array of replicates: bs_replicates\n",
    "    bs_replicates = np.empty(size)\n",
    "\n",
    "    # Generate replicates\n",
    "    for i in range(size):\n",
    "        bs_replicates[i] = func(np.random.choice(data, len(data)))\n",
    "    return bs_replicates\n",
    "\n",
    "# store null hypothesis value in variable\n",
    "h_null_mean = 98.6\n",
    "# store sample mean in variable\n",
    "sample_mean = np.mean(sample_temps)\n",
    "# draw 10,000 replicates of sample temperatures, taking the mean of each\n",
    "bs_mean = draw_bs_reps(sample_temps, np.mean, size=1000)\n",
    "# compute a 99% confidence interval for the means of the bootstrapped samples\n",
    "conf_int = np.percentile(bs_mean, [0.5, 99.5])\n",
    "\n",
    "if h_null_mean < conf_int[0] or h_null_mean > conf_int[1]:\n",
    "    print(str(h_null_mean) + \n",
    "          ' is outside of a 99% confidence interval ({:0.2f} to {:0.2f}) '.format(conf_int[0], conf_int[1]) +\n",
    "          'from the mean of the sample values ({:0.2f}).'.format(sample_mean))\n",
    "    print('The null hypothesis can be rejected with less than a 1% chance of a type 1 error.')\n",
    "\n",
    "else:\n",
    "    print(str(h_null_mean) + \n",
    "          ' is inside of a 99% confidence interval ({:0.2f} to {:0.2f}) '.format(conf_int[0], conf_int[1]) +\n",
    "          'from the mean of the sample values ({:0.2f}).'.format(sample_mean))\n",
    "    print('The null hypothesis should not be rejected.')             "
   ]
  },
  {
   "cell_type": "markdown",
   "metadata": {},
   "source": [
    "When the standard deviation of a population is unknown, a z-test cannot be used, and a t-test is the only option."
   ]
  },
  {
   "cell_type": "code",
   "execution_count": 161,
   "metadata": {},
   "outputs": [
    {
     "name": "stdout",
     "output_type": "stream",
     "text": [
      "Based on a one sample t-test, there is approximately a 0.00000 probability that the true population mean of the sample data is 98.6.\n"
     ]
    }
   ],
   "source": [
    "# set standard deviation equal to that of sample\n",
    "std_dev = np.std(sample_temps)\n",
    "# compute z-score\n",
    "tscore = (sample_mean - 98.6)/(std_dev / np.sqrt(len(sample_temps)))\n",
    "# convert z-score to p-value\n",
    "p_value = stats.norm.sf(abs(t_score))*2\n",
    "\n",
    "print('Based on a one sample t-test, there is approximately a {:0.5f} probability '.format(p_value) + \n",
    "      'that the true population mean of the sample data is 98.6.')"
   ]
  },
  {
   "cell_type": "markdown",
   "metadata": {},
   "source": [
    "The ttest_1samp function in the scipy stats package yields the same result."
   ]
  },
  {
   "cell_type": "code",
   "execution_count": 49,
   "metadata": {},
   "outputs": [
    {
     "name": "stdout",
     "output_type": "stream",
     "text": [
      "Based on a one sample t-test, there is approximately a 0.00000 probability that the true population mean of the sample data is 98.6.\n"
     ]
    }
   ],
   "source": [
    "t_score, p_value = stats.ttest_1samp(sample_temps, 98.6)\n",
    "print('Based on a one sample t-test, there is approximately a {:0.5f} probability '.format(p_value) + \n",
    "      'that the true population mean of the sample data is 98.6.')"
   ]
  },
  {
   "cell_type": "markdown",
   "metadata": {},
   "source": [
    "If we were to divide the sample into two separate groups, translate one group so that it meets the conditions of the null hypothesis, and then test for the probability that the means are equal, it also yields an extremely unlikely result."
   ]
  },
  {
   "cell_type": "code",
   "execution_count": 48,
   "metadata": {},
   "outputs": [
    {
     "name": "stdout",
     "output_type": "stream",
     "text": [
      "Based on a two sample t-test, there is a 0.00000 probability that the sample mean could have a value of 98.6.\n"
     ]
    }
   ],
   "source": [
    "sample_group1 = sample_temps\n",
    "sample_group2 = sample_temps + h_null_mean - sample_mean\n",
    "t_score, p_value = stats.ttest_rel(sample_group1, sample_group2)\n",
    "print('Based on a two sample t-test, there is a {:0.5f} probability '.format(p_value) +\n",
    "      'that the sample mean could have a value of 98.6.')"
   ]
  },
  {
   "cell_type": "markdown",
   "metadata": {},
   "source": [
    "In all cases, it is safe to reject the null hypothesis that 98.6 is the true population mean based on our sample data."
   ]
  },
  {
   "cell_type": "markdown",
   "metadata": {},
   "source": [
    "### 4) Draw a small sample of size 10 from the data and repeat both frequentist tests.\n",
    "Drawing a small sample of size 10 and repeating the t-test yields a much greater probability that the sample was drawn from a population with a mean temperature of 98.6 degrees, which indicates that we should accept the null hypothesis. \n",
    "\n",
    "However, a two sample t-test of size, comparing the original sample to one that has been shifted so that its mean is 98.6 indicates the null hypothesis should be rejected.\n",
    "\n",
    "The two-sample t-test is the proper one to use for a sample size of 10, as the variance among the samples is quite high, and the p-value of the one sample test will vary dramatically depending on the sample whereas the results of the two sample test will remain consistent."
   ]
  },
  {
   "cell_type": "code",
   "execution_count": 87,
   "metadata": {},
   "outputs": [
    {
     "name": "stdout",
     "output_type": "stream",
     "text": [
      "Based on a one sample t-test, there is approximately a 0.49288 probability that the true population mean of the sample data is 98.6.\n"
     ]
    }
   ],
   "source": [
    "sample_temps_10 = np.random.choice(sample_temps, 10)\n",
    "\n",
    "t_score, p_value = stats.ttest_1samp(sample_temps_10, 98.6)\n",
    "print('Based on a one sample t-test, there is approximately a {:0.5f} probability '.format(p_value) + \n",
    "      'that the true population mean of the sample data is 98.6.')"
   ]
  },
  {
   "cell_type": "code",
   "execution_count": 88,
   "metadata": {},
   "outputs": [
    {
     "name": "stdout",
     "output_type": "stream",
     "text": [
      "Based on a two sample t-test, there is a 0.00000 probability that the sample mean could have a value of 98.6.\n"
     ]
    }
   ],
   "source": [
    "sample_10_group1 = sample_temps_10\n",
    "sample_10_group2 = sample_temps_10 + h_null_mean - sample_mean\n",
    "t_score, p_value = stats.ttest_rel(sample_10_group1, sample_10_group2)\n",
    "print('Based on a two sample t-test, there is a {:0.5f} probability '.format(p_value) +\n",
    "      'that the sample mean could have a value of 98.6.')"
   ]
  },
  {
   "cell_type": "markdown",
   "metadata": {},
   "source": [
    "### 5) At what temperature should we consider someone's temperature to be \"abnormal\"?"
   ]
  },
  {
   "cell_type": "markdown",
   "metadata": {},
   "source": [
    "Statistically, a measurement is considered abnormal when it is 2 or more standard deviations away from the mean of a normal distribution. A near-equivalent to this is considering any measurement outside of a 95% confidence interval to be abnormal."
   ]
  },
  {
   "cell_type": "code",
   "execution_count": 124,
   "metadata": {},
   "outputs": [
    {
     "name": "stdout",
     "output_type": "stream",
     "text": [
      "The lower bound of an expected temperature range,as given by a 95% percentile is 98.13 and the upper bound is 98.37. \n",
      "Anything outside of this range can be considered abnormal.\n",
      "\n",
      "The lower and upper bounds of as given by two standard deviations from the mean are 98.12 and 98.38, respectively\n"
     ]
    }
   ],
   "source": [
    "bs_reps = draw_bs_reps(sample_temps, np.mean, 10000)\n",
    "bs_reps_std = np.std(draw_bs_reps(sample_temps, np.mean, 10000))\n",
    "\n",
    "conf_int = np.percentile(bs_reps, [2.5, 97.5])\n",
    "\n",
    "print('The lower bound of an expected temperature range,' + \n",
    "      'as given by a 95% percentile is {:0.2f} '.format(conf_int[0]) + \n",
    "      'and the upper bound is {:0.2f}. \\n'.format(conf_int[1]) +\n",
    "      'Anything outside of this range can be considered abnormal.')\n",
    "\n",
    "print('\\nThe lower and upper bounds of as given by two standard deviations from the mean '+\n",
    "      'are {:0.2f} and {:0.2f}, respectively'.format(sample_mean - 2*bs_reps_std, sample_mean + 2*bs_reps_std))"
   ]
  },
  {
   "cell_type": "markdown",
   "metadata": {},
   "source": [
    "### 6) Is there a significant difference between males and females in normal temperature?"
   ]
  },
  {
   "cell_type": "markdown",
   "metadata": {},
   "source": [
    "Null hypothesis: There is no significant difference in body temperature between males and females.  \n",
    "Alternate hypothesis: There is a statistaclly significant difference in body temperature between males and females.\n",
    "\n",
    "A brief exploration of the sample data separated by gender reveals that ecdf plots and the mean body temperature for each gender appear to be quite different.\n",
    "\n",
    "Bootstrapping 10,000 samples for each gender and computing a 95% confidence interval shows very little overlap and that the null hypothesis is quite improbable.\n",
    "\n",
    "Conducting a 2 sample t-test on these samples, treating them as independent, shows that there only a 2% chance of making a type 1 error in rejecting the null hypothesis. The null hypothesis should be rejected."
   ]
  },
  {
   "cell_type": "code",
   "execution_count": 139,
   "metadata": {},
   "outputs": [],
   "source": [
    "# divide sample temperatures between males and females.\n",
    "m_sample_temps = df[df['gender'] == 'M']['temperature']\n",
    "f_sample_temps = df[df['gender'] == 'F']['temperature']"
   ]
  },
  {
   "cell_type": "code",
   "execution_count": 157,
   "metadata": {},
   "outputs": [
    {
     "name": "stdout",
     "output_type": "stream",
     "text": [
      "Mean of male sample body temperatures is: 98.104615\n",
      "Mean of female sample body temperatures is: 98.393846\n"
     ]
    }
   ],
   "source": [
    "# compute the mean value of each sample\n",
    "m_sample_mean = np.mean(m_sample_temps)\n",
    "f_sample_mean = np.mean(f_sample_temps)\n",
    "# print the mean values\n",
    "print('Mean of male sample body temperatures is: {:02f}'.format(m_sample_mean))\n",
    "print('Mean of female sample body temperatures is: {:02f}'.format(f_sample_mean))"
   ]
  },
  {
   "cell_type": "code",
   "execution_count": 152,
   "metadata": {},
   "outputs": [
    {
     "data": {
      "image/png": "[encoded data removed]",
      "text/plain": [
       "<Figure size 432x288 with 1 Axes>"
      ]
     },
     "metadata": {},
     "output_type": "display_data"
    }
   ],
   "source": [
    "# compute separate ecdf plot coordinates for male and female body temperatures\n",
    "x_m_sample, y_m_sample = ecdf(m_sample_temps)\n",
    "x_f_sample, y_f_sample = ecdf(f_sample_temps)\n",
    "# draw plots\n",
    "plt.plot(x_m_sample, y_m_sample, marker='.', linestyle='none', color='b', alpha=0.5)\n",
    "plt.plot(x_f_sample, y_f_sample, marker='.', linestyle='none', color='r', alpha=0.5)\n",
    "# add vertical lines corresponding with the mean body temperature for each sex\n",
    "plt.vlines(m_sample_mean, 0, 1, color='b')\n",
    "plt.vlines(f_sample_mean, 0, 1, color='r')\n",
    "# label plots\n",
    "plt.xlabel('ecdf')\n",
    "plt.ylabel('body temperatures')\n",
    "# add legend\n",
    "plt.legend(('male', 'female'), loc='lower right' )\n",
    "# show plot\n",
    "plt.show()"
   ]
  },
  {
   "cell_type": "code",
   "execution_count": 160,
   "metadata": {},
   "outputs": [
    {
     "name": "stdout",
     "output_type": "stream",
     "text": [
      "A 95% confidence interval for male body temperatureranges from 97.93 to 98.27\n",
      "A 95% confidence interval for female body temperatureranges from 98.21 to 98.57\n"
     ]
    }
   ],
   "source": [
    "# draw 10,000 replicates of the samples for each gender\n",
    "m_bs_reps = draw_bs_reps(m_sample_temps, np.mean, 10000)\n",
    "f_bs_reps = draw_bs_reps(f_sample_temps, np.mean, 10000)\n",
    "\n",
    "# calculate the confidence intervals for each\n",
    "m_conf_int = np.percentile(m_bs_reps, [2.5, 97.5])\n",
    "f_conf_int = np.percentile(f_bs_reps, [2.5, 97.5])\n",
    "\n",
    "print('A 95% confidence interval for male body temperature' +\n",
    "      'ranges from {:0.2f} to {:0.2f}'.format(m_conf_int[0], m_conf_int[1]))\n",
    "print('A 95% confidence interval for female body temperature' +\n",
    "      'ranges from {:0.2f} to {:0.2f}'.format(f_conf_int[0], f_conf_int[1]))"
   ]
  },
  {
   "cell_type": "code",
   "execution_count": 166,
   "metadata": {},
   "outputs": [
    {
     "name": "stdout",
     "output_type": "stream",
     "text": [
      "The null hypothesis can be rejected.\n",
      "Probability is 0.02 of making a type 1 error, which is below a significance level of 0.05.\n"
     ]
    }
   ],
   "source": [
    "t_score, p_value = stats.ttest_ind(m_sample_temps, f_sample_temps)\n",
    "\n",
    "eval_hnull(p_value, alpha)"
   ]
  },
  {
   "cell_type": "code",
   "execution_count": null,
   "metadata": {},
   "outputs": [],
   "source": []
  }
 ],
 "metadata": {
  "hide_input": false,
  "kernelspec": {
   "display_name": "Python 3",
   "language": "python",
   "name": "python3"
  },
  "language_info": {
   "codemirror_mode": {
    "name": "ipython",
    "version": 3
   },
   "file_extension": ".py",
   "mimetype": "text/x-python",
   "name": "python",
   "nbconvert_exporter": "python",
   "pygments_lexer": "ipython3",
   "version": "3.6.5"
  }
 },
 "nbformat": 4,
 "nbformat_minor": 1
}
